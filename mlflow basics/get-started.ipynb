{
 "cells": [
  {
   "cell_type": "markdown",
   "metadata": {},
   "source": [
    "# MLFlow tracking Server"
   ]
  },
  {
   "cell_type": "code",
   "execution_count": 1,
   "metadata": {},
   "outputs": [],
   "source": [
    "import mlflow"
   ]
  },
  {
   "cell_type": "code",
   "execution_count": 9,
   "metadata": {},
   "outputs": [],
   "source": [
    "mlflow.set_tracking_uri(\"http://127.0.0.1:5000\")"
   ]
  },
  {
   "cell_type": "code",
   "execution_count": 11,
   "metadata": {},
   "outputs": [
    {
     "name": "stdout",
     "output_type": "stream",
     "text": [
      "🏃 View run clumsy-squid-389 at: http://127.0.0.1:5000/#/experiments/294342363775531378/runs/91cdd9a0a57347f394dc40cd40f11a3c\n",
      "🧪 View experiment at: http://127.0.0.1:5000/#/experiments/294342363775531378\n"
     ]
    }
   ],
   "source": [
    "mlflow.set_experiment(\n",
    "    \"Check localhost connection: \"\n",
    ")\n",
    "with mlflow.start_run():\n",
    "    mlflow.log_param(\"host\", \"localhost\")\n",
    "    mlflow.log_param(\"port\", \"5000\")\n",
    "    mlflow.log_param(\"path\", \"/api/v1/mlflow\")"
   ]
  },
  {
   "cell_type": "code",
   "execution_count": null,
   "metadata": {},
   "outputs": [],
   "source": []
  }
 ],
 "metadata": {
  "kernelspec": {
   "display_name": "mlflow2",
   "language": "python",
   "name": "python3"
  },
  "language_info": {
   "codemirror_mode": {
    "name": "ipython",
    "version": 3
   },
   "file_extension": ".py",
   "mimetype": "text/x-python",
   "name": "python",
   "nbconvert_exporter": "python",
   "pygments_lexer": "ipython3",
   "version": "3.11.4"
  }
 },
 "nbformat": 4,
 "nbformat_minor": 2
}
